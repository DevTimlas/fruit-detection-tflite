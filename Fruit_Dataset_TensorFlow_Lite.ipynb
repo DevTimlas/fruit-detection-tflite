{
  "cells": [
    {
      "cell_type": "markdown",
      "metadata": {
        "id": "view-in-github",
        "colab_type": "text"
      },
      "source": [
        "<a href=\"https://colab.research.google.com/github/thepbordin/tflite-finetuning/blob/main/Fruit_Dataset_TensorFlow_Lite.ipynb\" target=\"_parent\"><img src=\"https://colab.research.google.com/assets/colab-badge.svg\" alt=\"Open In Colab\"/></a>"
      ]
    },
    {
      "cell_type": "markdown",
      "metadata": {
        "id": "LlgYH8jOo4j6"
      },
      "source": [
        "Libraries"
      ]
    },
    {
      "cell_type": "code",
      "execution_count": null,
      "metadata": {
        "colab": {
          "base_uri": "https://localhost:8080/",
          "height": 1000
        },
        "id": "fD0HLOymaOIL",
        "outputId": "42ce54a2-4412-472f-8651-066643fdb264"
      },
      "outputs": [
        {
          "name": "stdout",
          "output_type": "stream",
          "text": [
            "Looking in indexes: https://pypi.org/simple, https://us-python.pkg.dev/colab-wheels/public/simple/\n",
            "Collecting tflite-model-maker-nightly\n",
            "  Downloading tflite_model_maker_nightly-0.4.2.dev202208130508-py3-none-any.whl (643 kB)\n",
            "\u001b[K     |████████████████████████████████| 643 kB 3.2 MB/s \n",
            "\u001b[?25hCollecting fire>=0.3.1\n",
            "  Downloading fire-0.4.0.tar.gz (87 kB)\n",
            "\u001b[K     |████████████████████████████████| 87 kB 6.6 MB/s \n",
            "\u001b[?25hCollecting PyYAML>=5.1\n",
            "  Downloading PyYAML-6.0-cp37-cp37m-manylinux_2_5_x86_64.manylinux1_x86_64.manylinux_2_12_x86_64.manylinux2010_x86_64.whl (596 kB)\n",
            "\u001b[K     |████████████████████████████████| 596 kB 56.4 MB/s \n",
            "\u001b[?25hCollecting tf-models-official==2.3.0\n",
            "  Downloading tf_models_official-2.3.0-py2.py3-none-any.whl (840 kB)\n",
            "\u001b[K     |████████████████████████████████| 840 kB 57.0 MB/s \n",
            "\u001b[?25hRequirement already satisfied: tensorflow>=2.6.0 in /usr/local/lib/python3.7/dist-packages (from tflite-model-maker-nightly) (2.8.2+zzzcolab20220719082949)\n",
            "Requirement already satisfied: Cython>=0.29.13 in /usr/local/lib/python3.7/dist-packages (from tflite-model-maker-nightly) (0.29.32)\n",
            "Requirement already satisfied: urllib3!=1.25.0,!=1.25.1,<1.26,>=1.21.1 in /usr/local/lib/python3.7/dist-packages (from tflite-model-maker-nightly) (1.24.3)\n",
            "Collecting neural-structured-learning>=1.3.1\n",
            "  Downloading neural_structured_learning-1.4.0-py2.py3-none-any.whl (128 kB)\n",
            "\u001b[K     |████████████████████████████████| 128 kB 68.5 MB/s \n",
            "\u001b[?25hRequirement already satisfied: librosa==0.8.1 in /usr/local/lib/python3.7/dist-packages (from tflite-model-maker-nightly) (0.8.1)\n",
            "Requirement already satisfied: flatbuffers>=2.0 in /usr/local/lib/python3.7/dist-packages (from tflite-model-maker-nightly) (2.0)\n",
            "Requirement already satisfied: pillow>=7.0.0 in /usr/local/lib/python3.7/dist-packages (from tflite-model-maker-nightly) (7.1.2)\n",
            "Requirement already satisfied: absl-py>=0.10.0 in /usr/local/lib/python3.7/dist-packages (from tflite-model-maker-nightly) (1.2.0)\n",
            "Collecting scann==1.2.6\n",
            "  Downloading scann-1.2.6-cp37-cp37m-manylinux2014_x86_64.whl (10.9 MB)\n",
            "\u001b[K     |████████████████████████████████| 10.9 MB 9.3 MB/s \n",
            "\u001b[?25hCollecting tfa-nightly\n",
            "  Downloading tfa_nightly-0.17.0.dev20220808081458-cp37-cp37m-manylinux_2_17_x86_64.manylinux2014_x86_64.whl (1.1 MB)\n",
            "\u001b[K     |████████████████████████████████| 1.1 MB 57.7 MB/s \n",
            "\u001b[?25hRequirement already satisfied: lxml>=4.6.1 in /usr/local/lib/python3.7/dist-packages (from tflite-model-maker-nightly) (4.9.1)\n",
            "Collecting tflite-support-nightly\n",
            "  Downloading tflite_support_nightly-0.4.0.dev20220812-cp37-cp37m-manylinux2014_x86_64.whl (60.1 MB)\n",
            "\u001b[K     |████████████████████████████████| 60.1 MB 110 kB/s \n",
            "\u001b[?25hCollecting sentencepiece>=0.1.91\n",
            "  Downloading sentencepiece-0.1.97-cp37-cp37m-manylinux_2_17_x86_64.manylinux2014_x86_64.whl (1.3 MB)\n",
            "\u001b[K     |████████████████████████████████| 1.3 MB 42.4 MB/s \n",
            "\u001b[?25hRequirement already satisfied: numpy>=1.17.3 in /usr/local/lib/python3.7/dist-packages (from tflite-model-maker-nightly) (1.21.6)\n",
            "Requirement already satisfied: tensorflow-datasets>=2.1.0 in /usr/local/lib/python3.7/dist-packages (from tflite-model-maker-nightly) (4.6.0)\n",
            "Collecting tensorflow-model-optimization>=0.5\n",
            "  Downloading tensorflow_model_optimization-0.7.3-py2.py3-none-any.whl (238 kB)\n",
            "\u001b[K     |████████████████████████████████| 238 kB 10.0 MB/s \n",
            "\u001b[?25hCollecting numba==0.53\n",
            "  Downloading numba-0.53.0-cp37-cp37m-manylinux2014_x86_64.whl (3.4 MB)\n",
            "\u001b[K     |████████████████████████████████| 3.4 MB 43.8 MB/s \n",
            "\u001b[?25hRequirement already satisfied: tensorflow-hub<0.13,>=0.7.0 in /usr/local/lib/python3.7/dist-packages (from tflite-model-maker-nightly) (0.12.0)\n",
            "Requirement already satisfied: six>=1.12.0 in /usr/local/lib/python3.7/dist-packages (from tflite-model-maker-nightly) (1.15.0)\n",
            "Requirement already satisfied: matplotlib<3.5.0,>=3.0.3 in /usr/local/lib/python3.7/dist-packages (from tflite-model-maker-nightly) (3.2.2)\n",
            "Requirement already satisfied: packaging>=20.0 in /usr/local/lib/python3.7/dist-packages (from librosa==0.8.1->tflite-model-maker-nightly) (21.3)\n",
            "Requirement already satisfied: resampy>=0.2.2 in /usr/local/lib/python3.7/dist-packages (from librosa==0.8.1->tflite-model-maker-nightly) (0.4.0)\n",
            "Requirement already satisfied: scipy>=1.0.0 in /usr/local/lib/python3.7/dist-packages (from librosa==0.8.1->tflite-model-maker-nightly) (1.7.3)\n",
            "Requirement already satisfied: pooch>=1.0 in /usr/local/lib/python3.7/dist-packages (from librosa==0.8.1->tflite-model-maker-nightly) (1.6.0)\n",
            "Requirement already satisfied: scikit-learn!=0.19.0,>=0.14.0 in /usr/local/lib/python3.7/dist-packages (from librosa==0.8.1->tflite-model-maker-nightly) (1.0.2)\n",
            "Requirement already satisfied: soundfile>=0.10.2 in /usr/local/lib/python3.7/dist-packages (from librosa==0.8.1->tflite-model-maker-nightly) (0.10.3.post1)\n",
            "Requirement already satisfied: audioread>=2.0.0 in /usr/local/lib/python3.7/dist-packages (from librosa==0.8.1->tflite-model-maker-nightly) (2.1.9)\n",
            "Requirement already satisfied: decorator>=3.0.0 in /usr/local/lib/python3.7/dist-packages (from librosa==0.8.1->tflite-model-maker-nightly) (4.4.2)\n",
            "Requirement already satisfied: joblib>=0.14 in /usr/local/lib/python3.7/dist-packages (from librosa==0.8.1->tflite-model-maker-nightly) (1.1.0)\n",
            "Requirement already satisfied: setuptools in /usr/local/lib/python3.7/dist-packages (from numba==0.53->tflite-model-maker-nightly) (57.4.0)\n",
            "Collecting llvmlite<0.37,>=0.36.0rc1\n",
            "  Downloading llvmlite-0.36.0-cp37-cp37m-manylinux2010_x86_64.whl (25.3 MB)\n",
            "\u001b[K     |████████████████████████████████| 25.3 MB 2.1 MB/s \n",
            "\u001b[?25hCollecting py-cpuinfo>=3.3.0\n",
            "  Downloading py-cpuinfo-8.0.0.tar.gz (99 kB)\n",
            "\u001b[K     |████████████████████████████████| 99 kB 5.0 MB/s \n",
            "\u001b[?25hCollecting dataclasses\n",
            "  Downloading dataclasses-0.6-py3-none-any.whl (14 kB)\n",
            "Requirement already satisfied: google-cloud-bigquery>=0.31.0 in /usr/local/lib/python3.7/dist-packages (from tf-models-official==2.3.0->tflite-model-maker-nightly) (1.21.0)\n",
            "Requirement already satisfied: psutil>=5.4.3 in /usr/local/lib/python3.7/dist-packages (from tf-models-official==2.3.0->tflite-model-maker-nightly) (5.4.8)\n",
            "Requirement already satisfied: gin-config in /usr/local/lib/python3.7/dist-packages (from tf-models-official==2.3.0->tflite-model-maker-nightly) (0.5.0)\n",
            "Requirement already satisfied: opencv-python-headless in /usr/local/lib/python3.7/dist-packages (from tf-models-official==2.3.0->tflite-model-maker-nightly) (4.6.0.66)\n",
            "Requirement already satisfied: kaggle>=1.3.9 in /usr/local/lib/python3.7/dist-packages (from tf-models-official==2.3.0->tflite-model-maker-nightly) (1.5.12)\n",
            "Collecting tensorflow-addons\n",
            "  Downloading tensorflow_addons-0.17.1-cp37-cp37m-manylinux_2_17_x86_64.manylinux2014_x86_64.whl (1.1 MB)\n",
            "\u001b[K     |████████████████████████████████| 1.1 MB 15.9 MB/s \n",
            "\u001b[?25hRequirement already satisfied: pandas>=0.22.0 in /usr/local/lib/python3.7/dist-packages (from tf-models-official==2.3.0->tflite-model-maker-nightly) (1.3.5)\n",
            "Collecting tf-slim>=1.1.0\n",
            "  Downloading tf_slim-1.1.0-py2.py3-none-any.whl (352 kB)\n",
            "\u001b[K     |████████████████████████████████| 352 kB 49.2 MB/s \n",
            "\u001b[?25hRequirement already satisfied: google-api-python-client>=1.6.7 in /usr/local/lib/python3.7/dist-packages (from tf-models-official==2.3.0->tflite-model-maker-nightly) (1.12.11)\n",
            "Requirement already satisfied: termcolor in /usr/local/lib/python3.7/dist-packages (from fire>=0.3.1->tflite-model-maker-nightly) (1.1.0)\n",
            "Requirement already satisfied: google-api-core<3dev,>=1.21.0 in /usr/local/lib/python3.7/dist-packages (from google-api-python-client>=1.6.7->tf-models-official==2.3.0->tflite-model-maker-nightly) (1.31.6)\n",
            "Requirement already satisfied: google-auth<3dev,>=1.16.0 in /usr/local/lib/python3.7/dist-packages (from google-api-python-client>=1.6.7->tf-models-official==2.3.0->tflite-model-maker-nightly) (1.35.0)\n",
            "Requirement already satisfied: uritemplate<4dev,>=3.0.0 in /usr/local/lib/python3.7/dist-packages (from google-api-python-client>=1.6.7->tf-models-official==2.3.0->tflite-model-maker-nightly) (3.0.1)\n",
            "Requirement already satisfied: google-auth-httplib2>=0.0.3 in /usr/local/lib/python3.7/dist-packages (from google-api-python-client>=1.6.7->tf-models-official==2.3.0->tflite-model-maker-nightly) (0.0.4)\n",
            "Requirement already satisfied: httplib2<1dev,>=0.15.0 in /usr/local/lib/python3.7/dist-packages (from google-api-python-client>=1.6.7->tf-models-official==2.3.0->tflite-model-maker-nightly) (0.17.4)\n",
            "Requirement already satisfied: googleapis-common-protos<2.0dev,>=1.6.0 in /usr/local/lib/python3.7/dist-packages (from google-api-core<3dev,>=1.21.0->google-api-python-client>=1.6.7->tf-models-official==2.3.0->tflite-model-maker-nightly) (1.56.4)\n",
            "Requirement already satisfied: pytz in /usr/local/lib/python3.7/dist-packages (from google-api-core<3dev,>=1.21.0->google-api-python-client>=1.6.7->tf-models-official==2.3.0->tflite-model-maker-nightly) (2022.1)\n",
            "Requirement already satisfied: requests<3.0.0dev,>=2.18.0 in /usr/local/lib/python3.7/dist-packages (from google-api-core<3dev,>=1.21.0->google-api-python-client>=1.6.7->tf-models-official==2.3.0->tflite-model-maker-nightly) (2.23.0)\n",
            "Requirement already satisfied: protobuf<4.0.0dev,>=3.12.0 in /usr/local/lib/python3.7/dist-packages (from google-api-core<3dev,>=1.21.0->google-api-python-client>=1.6.7->tf-models-official==2.3.0->tflite-model-maker-nightly) (3.17.3)\n",
            "Requirement already satisfied: cachetools<5.0,>=2.0.0 in /usr/local/lib/python3.7/dist-packages (from google-auth<3dev,>=1.16.0->google-api-python-client>=1.6.7->tf-models-official==2.3.0->tflite-model-maker-nightly) (4.2.4)\n",
            "Requirement already satisfied: pyasn1-modules>=0.2.1 in /usr/local/lib/python3.7/dist-packages (from google-auth<3dev,>=1.16.0->google-api-python-client>=1.6.7->tf-models-official==2.3.0->tflite-model-maker-nightly) (0.2.8)\n",
            "Requirement already satisfied: rsa<5,>=3.1.4 in /usr/local/lib/python3.7/dist-packages (from google-auth<3dev,>=1.16.0->google-api-python-client>=1.6.7->tf-models-official==2.3.0->tflite-model-maker-nightly) (4.9)\n",
            "Requirement already satisfied: google-resumable-media!=0.4.0,<0.5.0dev,>=0.3.1 in /usr/local/lib/python3.7/dist-packages (from google-cloud-bigquery>=0.31.0->tf-models-official==2.3.0->tflite-model-maker-nightly) (0.4.1)\n",
            "Requirement already satisfied: google-cloud-core<2.0dev,>=1.0.3 in /usr/local/lib/python3.7/dist-packages (from google-cloud-bigquery>=0.31.0->tf-models-official==2.3.0->tflite-model-maker-nightly) (1.0.3)\n",
            "Requirement already satisfied: python-dateutil in /usr/local/lib/python3.7/dist-packages (from kaggle>=1.3.9->tf-models-official==2.3.0->tflite-model-maker-nightly) (2.8.2)\n",
            "Requirement already satisfied: certifi in /usr/local/lib/python3.7/dist-packages (from kaggle>=1.3.9->tf-models-official==2.3.0->tflite-model-maker-nightly) (2022.6.15)\n",
            "Requirement already satisfied: tqdm in /usr/local/lib/python3.7/dist-packages (from kaggle>=1.3.9->tf-models-official==2.3.0->tflite-model-maker-nightly) (4.64.0)\n",
            "Requirement already satisfied: python-slugify in /usr/local/lib/python3.7/dist-packages (from kaggle>=1.3.9->tf-models-official==2.3.0->tflite-model-maker-nightly) (6.1.2)\n",
            "Requirement already satisfied: pyparsing!=2.0.4,!=2.1.2,!=2.1.6,>=2.0.1 in /usr/local/lib/python3.7/dist-packages (from matplotlib<3.5.0,>=3.0.3->tflite-model-maker-nightly) (3.0.9)\n",
            "Requirement already satisfied: cycler>=0.10 in /usr/local/lib/python3.7/dist-packages (from matplotlib<3.5.0,>=3.0.3->tflite-model-maker-nightly) (0.11.0)\n",
            "Requirement already satisfied: kiwisolver>=1.0.1 in /usr/local/lib/python3.7/dist-packages (from matplotlib<3.5.0,>=3.0.3->tflite-model-maker-nightly) (1.4.4)\n",
            "Requirement already satisfied: typing-extensions in /usr/local/lib/python3.7/dist-packages (from kiwisolver>=1.0.1->matplotlib<3.5.0,>=3.0.3->tflite-model-maker-nightly) (4.1.1)\n",
            "Requirement already satisfied: attrs in /usr/local/lib/python3.7/dist-packages (from neural-structured-learning>=1.3.1->tflite-model-maker-nightly) (22.1.0)\n",
            "Requirement already satisfied: appdirs>=1.3.0 in /usr/local/lib/python3.7/dist-packages (from pooch>=1.0->librosa==0.8.1->tflite-model-maker-nightly) (1.4.4)\n",
            "Requirement already satisfied: pyasn1<0.5.0,>=0.4.6 in /usr/local/lib/python3.7/dist-packages (from pyasn1-modules>=0.2.1->google-auth<3dev,>=1.16.0->google-api-python-client>=1.6.7->tf-models-official==2.3.0->tflite-model-maker-nightly) (0.4.8)\n",
            "Requirement already satisfied: chardet<4,>=3.0.2 in /usr/local/lib/python3.7/dist-packages (from requests<3.0.0dev,>=2.18.0->google-api-core<3dev,>=1.21.0->google-api-python-client>=1.6.7->tf-models-official==2.3.0->tflite-model-maker-nightly) (3.0.4)\n",
            "Requirement already satisfied: idna<3,>=2.5 in /usr/local/lib/python3.7/dist-packages (from requests<3.0.0dev,>=2.18.0->google-api-core<3dev,>=1.21.0->google-api-python-client>=1.6.7->tf-models-official==2.3.0->tflite-model-maker-nightly) (2.10)\n",
            "Requirement already satisfied: threadpoolctl>=2.0.0 in /usr/local/lib/python3.7/dist-packages (from scikit-learn!=0.19.0,>=0.14.0->librosa==0.8.1->tflite-model-maker-nightly) (3.1.0)\n",
            "Requirement already satisfied: cffi>=1.0 in /usr/local/lib/python3.7/dist-packages (from soundfile>=0.10.2->librosa==0.8.1->tflite-model-maker-nightly) (1.15.1)\n",
            "Requirement already satisfied: pycparser in /usr/local/lib/python3.7/dist-packages (from cffi>=1.0->soundfile>=0.10.2->librosa==0.8.1->tflite-model-maker-nightly) (2.21)\n",
            "Requirement already satisfied: tensorflow-estimator<2.9,>=2.8 in /usr/local/lib/python3.7/dist-packages (from tensorflow>=2.6.0->tflite-model-maker-nightly) (2.8.0)\n",
            "Requirement already satisfied: opt-einsum>=2.3.2 in /usr/local/lib/python3.7/dist-packages (from tensorflow>=2.6.0->tflite-model-maker-nightly) (3.3.0)\n",
            "Requirement already satisfied: keras-preprocessing>=1.1.1 in /usr/local/lib/python3.7/dist-packages (from tensorflow>=2.6.0->tflite-model-maker-nightly) (1.1.2)\n",
            "Requirement already satisfied: gast>=0.2.1 in /usr/local/lib/python3.7/dist-packages (from tensorflow>=2.6.0->tflite-model-maker-nightly) (0.5.3)\n",
            "Requirement already satisfied: grpcio<2.0,>=1.24.3 in /usr/local/lib/python3.7/dist-packages (from tensorflow>=2.6.0->tflite-model-maker-nightly) (1.47.0)\n",
            "Requirement already satisfied: wrapt>=1.11.0 in /usr/local/lib/python3.7/dist-packages (from tensorflow>=2.6.0->tflite-model-maker-nightly) (1.14.1)\n",
            "Requirement already satisfied: astunparse>=1.6.0 in /usr/local/lib/python3.7/dist-packages (from tensorflow>=2.6.0->tflite-model-maker-nightly) (1.6.3)\n",
            "Requirement already satisfied: keras<2.9,>=2.8.0rc0 in /usr/local/lib/python3.7/dist-packages (from tensorflow>=2.6.0->tflite-model-maker-nightly) (2.8.0)\n",
            "Requirement already satisfied: tensorboard<2.9,>=2.8 in /usr/local/lib/python3.7/dist-packages (from tensorflow>=2.6.0->tflite-model-maker-nightly) (2.8.0)\n",
            "Requirement already satisfied: tensorflow-io-gcs-filesystem>=0.23.1 in /usr/local/lib/python3.7/dist-packages (from tensorflow>=2.6.0->tflite-model-maker-nightly) (0.26.0)\n",
            "Requirement already satisfied: libclang>=9.0.1 in /usr/local/lib/python3.7/dist-packages (from tensorflow>=2.6.0->tflite-model-maker-nightly) (14.0.6)\n",
            "Requirement already satisfied: h5py>=2.9.0 in /usr/local/lib/python3.7/dist-packages (from tensorflow>=2.6.0->tflite-model-maker-nightly) (3.1.0)\n",
            "Requirement already satisfied: google-pasta>=0.1.1 in /usr/local/lib/python3.7/dist-packages (from tensorflow>=2.6.0->tflite-model-maker-nightly) (0.2.0)\n",
            "Requirement already satisfied: wheel<1.0,>=0.23.0 in /usr/local/lib/python3.7/dist-packages (from astunparse>=1.6.0->tensorflow>=2.6.0->tflite-model-maker-nightly) (0.37.1)\n",
            "Requirement already satisfied: cached-property in /usr/local/lib/python3.7/dist-packages (from h5py>=2.9.0->tensorflow>=2.6.0->tflite-model-maker-nightly) (1.5.2)\n",
            "Requirement already satisfied: tensorboard-data-server<0.7.0,>=0.6.0 in /usr/local/lib/python3.7/dist-packages (from tensorboard<2.9,>=2.8->tensorflow>=2.6.0->tflite-model-maker-nightly) (0.6.1)\n",
            "Requirement already satisfied: google-auth-oauthlib<0.5,>=0.4.1 in /usr/local/lib/python3.7/dist-packages (from tensorboard<2.9,>=2.8->tensorflow>=2.6.0->tflite-model-maker-nightly) (0.4.6)\n",
            "Requirement already satisfied: werkzeug>=0.11.15 in /usr/local/lib/python3.7/dist-packages (from tensorboard<2.9,>=2.8->tensorflow>=2.6.0->tflite-model-maker-nightly) (1.0.1)\n",
            "Requirement already satisfied: markdown>=2.6.8 in /usr/local/lib/python3.7/dist-packages (from tensorboard<2.9,>=2.8->tensorflow>=2.6.0->tflite-model-maker-nightly) (3.4.1)\n",
            "Requirement already satisfied: tensorboard-plugin-wit>=1.6.0 in /usr/local/lib/python3.7/dist-packages (from tensorboard<2.9,>=2.8->tensorflow>=2.6.0->tflite-model-maker-nightly) (1.8.1)\n",
            "Requirement already satisfied: requests-oauthlib>=0.7.0 in /usr/local/lib/python3.7/dist-packages (from google-auth-oauthlib<0.5,>=0.4.1->tensorboard<2.9,>=2.8->tensorflow>=2.6.0->tflite-model-maker-nightly) (1.3.1)\n",
            "Requirement already satisfied: importlib-metadata>=4.4 in /usr/local/lib/python3.7/dist-packages (from markdown>=2.6.8->tensorboard<2.9,>=2.8->tensorflow>=2.6.0->tflite-model-maker-nightly) (4.12.0)\n",
            "Requirement already satisfied: zipp>=0.5 in /usr/local/lib/python3.7/dist-packages (from importlib-metadata>=4.4->markdown>=2.6.8->tensorboard<2.9,>=2.8->tensorflow>=2.6.0->tflite-model-maker-nightly) (3.8.1)\n",
            "Requirement already satisfied: oauthlib>=3.0.0 in /usr/local/lib/python3.7/dist-packages (from requests-oauthlib>=0.7.0->google-auth-oauthlib<0.5,>=0.4.1->tensorboard<2.9,>=2.8->tensorflow>=2.6.0->tflite-model-maker-nightly) (3.2.0)\n",
            "Requirement already satisfied: dill in /usr/local/lib/python3.7/dist-packages (from tensorflow-datasets>=2.1.0->tflite-model-maker-nightly) (0.3.5.1)\n",
            "Requirement already satisfied: tensorflow-metadata in /usr/local/lib/python3.7/dist-packages (from tensorflow-datasets>=2.1.0->tflite-model-maker-nightly) (1.9.0)\n",
            "Requirement already satisfied: toml in /usr/local/lib/python3.7/dist-packages (from tensorflow-datasets>=2.1.0->tflite-model-maker-nightly) (0.10.2)\n",
            "Requirement already satisfied: etils[epath] in /usr/local/lib/python3.7/dist-packages (from tensorflow-datasets>=2.1.0->tflite-model-maker-nightly) (0.7.1)\n",
            "Requirement already satisfied: promise in /usr/local/lib/python3.7/dist-packages (from tensorflow-datasets>=2.1.0->tflite-model-maker-nightly) (2.3)\n",
            "Requirement already satisfied: importlib-resources in /usr/local/lib/python3.7/dist-packages (from tensorflow-datasets>=2.1.0->tflite-model-maker-nightly) (5.9.0)\n",
            "Requirement already satisfied: dm-tree~=0.1.1 in /usr/local/lib/python3.7/dist-packages (from tensorflow-model-optimization>=0.5->tflite-model-maker-nightly) (0.1.7)\n",
            "Requirement already satisfied: text-unidecode>=1.3 in /usr/local/lib/python3.7/dist-packages (from python-slugify->kaggle>=1.3.9->tf-models-official==2.3.0->tflite-model-maker-nightly) (1.3)\n",
            "Requirement already satisfied: typeguard>=2.7 in /usr/local/lib/python3.7/dist-packages (from tensorflow-addons->tf-models-official==2.3.0->tflite-model-maker-nightly) (2.7.1)\n",
            "Collecting protobuf<4.0.0dev,>=3.12.0\n",
            "  Downloading protobuf-3.19.4-cp37-cp37m-manylinux_2_17_x86_64.manylinux2014_x86_64.whl (1.1 MB)\n",
            "\u001b[K     |████████████████████████████████| 1.1 MB 69.3 MB/s \n",
            "\u001b[?25hCollecting pybind11>=2.6.0\n",
            "  Downloading pybind11-2.10.0-py3-none-any.whl (213 kB)\n",
            "\u001b[K     |████████████████████████████████| 213 kB 70.9 MB/s \n",
            "\u001b[?25hCollecting sounddevice>=0.4.4\n",
            "  Downloading sounddevice-0.4.4-py3-none-any.whl (31 kB)\n",
            "Building wheels for collected packages: fire, py-cpuinfo\n",
            "  Building wheel for fire (setup.py) ... \u001b[?25l\u001b[?25hdone\n",
            "  Created wheel for fire: filename=fire-0.4.0-py2.py3-none-any.whl size=115942 sha256=1b147f371197673979d0333aed628142a7973ac7c20bf9953dbab6b2ac2822c9\n",
            "  Stored in directory: /root/.cache/pip/wheels/8a/67/fb/2e8a12fa16661b9d5af1f654bd199366799740a85c64981226\n",
            "  Building wheel for py-cpuinfo (setup.py) ... \u001b[?25l\u001b[?25hdone\n",
            "  Created wheel for py-cpuinfo: filename=py_cpuinfo-8.0.0-py3-none-any.whl size=22257 sha256=135f8794a0e31605f9dd1710f91cffe3e7aad4c4ab71a8735ba4388b06984086\n",
            "  Stored in directory: /root/.cache/pip/wheels/d2/f1/1f/041add21dc9c4220157f1bd2bd6afe1f1a49524c3396b94401\n",
            "Successfully built fire py-cpuinfo\n",
            "Installing collected packages: protobuf, llvmlite, numba, tf-slim, tensorflow-model-optimization, tensorflow-addons, sounddevice, sentencepiece, PyYAML, pybind11, py-cpuinfo, dataclasses, tflite-support-nightly, tfa-nightly, tf-models-official, scann, neural-structured-learning, fire, tflite-model-maker-nightly\n",
            "  Attempting uninstall: protobuf\n",
            "    Found existing installation: protobuf 3.17.3\n",
            "    Uninstalling protobuf-3.17.3:\n",
            "      Successfully uninstalled protobuf-3.17.3\n",
            "  Attempting uninstall: llvmlite\n",
            "    Found existing installation: llvmlite 0.39.0\n",
            "    Uninstalling llvmlite-0.39.0:\n",
            "      Successfully uninstalled llvmlite-0.39.0\n",
            "  Attempting uninstall: numba\n",
            "    Found existing installation: numba 0.56.0\n",
            "    Uninstalling numba-0.56.0:\n",
            "      Successfully uninstalled numba-0.56.0\n",
            "  Attempting uninstall: PyYAML\n",
            "    Found existing installation: PyYAML 3.13\n",
            "    Uninstalling PyYAML-3.13:\n",
            "      Successfully uninstalled PyYAML-3.13\n",
            "Successfully installed PyYAML-6.0 dataclasses-0.6 fire-0.4.0 llvmlite-0.36.0 neural-structured-learning-1.4.0 numba-0.53.0 protobuf-3.19.4 py-cpuinfo-8.0.0 pybind11-2.10.0 scann-1.2.6 sentencepiece-0.1.97 sounddevice-0.4.4 tensorflow-addons-0.17.1 tensorflow-model-optimization-0.7.3 tf-models-official-2.3.0 tf-slim-1.1.0 tfa-nightly-0.17.0.dev20220808081458 tflite-model-maker-nightly-0.4.2.dev202208130508 tflite-support-nightly-0.4.0.dev20220812\n"
          ]
        },
        {
          "data": {
            "application/vnd.colab-display-data+json": {
              "pip_warning": {
                "packages": [
                  "google"
                ]
              }
            }
          },
          "metadata": {},
          "output_type": "display_data"
        }
      ],
      "source": [
        "!pip install tflite-model-maker-nightly"
      ]
    },
    {
      "cell_type": "code",
      "execution_count": null,
      "metadata": {
        "id": "OPMCz7xEo1YJ"
      },
      "outputs": [],
      "source": [
        "# !pip uninstall -y tensorflow && pip install -q tensorflow==2.7.0\n",
        "# !sudo apt -y install libportaudio2\n",
        "# !pip install scann\n",
        "# !pip uninstall -y protobuf && pip install -q protobuf==3.19\n",
        "# !pip uninstall -y folium && pip install -q folium==0.2.1\n",
        "# !pip uninstall -y packaging && pip install -q packaging==20.9\n",
        "# !pip uninstall -y tensorflow && pip install -q tensorflow==2.9.0\n",
        "# !pip install -q --use-deprecated=legacy-resolver tflite-model-maker\n",
        "# !pip install -q pycocotools\n",
        "# !pip install -q opencv-python-headless==4.1.2.30\n",
        "# !apt install --allow-change-held-packages libcudnn8=8.1.0.77-1+cuda11.2"
      ]
    },
    {
      "cell_type": "code",
      "execution_count": null,
      "metadata": {
        "id": "6cyHe0Cyo7C3"
      },
      "outputs": [],
      "source": [
        "# Importing libraries\n",
        "import numpy as np\n",
        "import os\n",
        "\n",
        "from tflite_model_maker.config import QuantizationConfig\n",
        "from tflite_model_maker.config import ExportFormat\n",
        "from tflite_model_maker import model_spec\n",
        "from tflite_model_maker import object_detector\n",
        "\n",
        "import tensorflow as tf\n",
        "assert tf.__version__.startswith('2')\n",
        "\n",
        "tf.get_logger().setLevel('ERROR')\n",
        "from absl import logging\n",
        "logging.set_verbosity(logging.ERROR)"
      ]
    },
    {
      "cell_type": "code",
      "execution_count": null,
      "metadata": {
        "colab": {
          "base_uri": "https://localhost:8080/"
        },
        "id": "86orR2E4o6Mw",
        "outputId": "5c1d3e45-b775-4e86-997b-a6072ac11b6a"
      },
      "outputs": [
        {
          "name": "stdout",
          "output_type": "stream",
          "text": [
            "Mounted at /content/drive\n"
          ]
        }
      ],
      "source": [
        "from google.colab import drive\n",
        "drive.mount('/content/drive')"
      ]
    },
    {
      "cell_type": "code",
      "execution_count": null,
      "metadata": {
        "colab": {
          "base_uri": "https://localhost:8080/"
        },
        "id": "Q2d5krwYpBmq",
        "outputId": "14180378-6d9a-41f5-9f22-ba6f2fcd0549"
      },
      "outputs": [
        {
          "name": "stdout",
          "output_type": "stream",
          "text": [
            "Looking in indexes: https://pypi.org/simple, https://us-python.pkg.dev/colab-wheels/public/simple/\n",
            "Requirement already satisfied: kaggle in /usr/local/lib/python3.7/dist-packages (1.5.12)\n",
            "Requirement already satisfied: python-dateutil in /usr/local/lib/python3.7/dist-packages (from kaggle) (2.8.2)\n",
            "Requirement already satisfied: requests in /usr/local/lib/python3.7/dist-packages (from kaggle) (2.23.0)\n",
            "Requirement already satisfied: tqdm in /usr/local/lib/python3.7/dist-packages (from kaggle) (4.64.0)\n",
            "Requirement already satisfied: urllib3 in /usr/local/lib/python3.7/dist-packages (from kaggle) (1.24.3)\n",
            "Requirement already satisfied: python-slugify in /usr/local/lib/python3.7/dist-packages (from kaggle) (6.1.2)\n",
            "Requirement already satisfied: certifi in /usr/local/lib/python3.7/dist-packages (from kaggle) (2022.6.15)\n",
            "Requirement already satisfied: six>=1.10 in /usr/local/lib/python3.7/dist-packages (from kaggle) (1.15.0)\n",
            "Requirement already satisfied: text-unidecode>=1.3 in /usr/local/lib/python3.7/dist-packages (from python-slugify->kaggle) (1.3)\n",
            "Requirement already satisfied: idna<3,>=2.5 in /usr/local/lib/python3.7/dist-packages (from requests->kaggle) (2.10)\n",
            "Requirement already satisfied: chardet<4,>=3.0.2 in /usr/local/lib/python3.7/dist-packages (from requests->kaggle) (3.0.4)\n"
          ]
        }
      ],
      "source": [
        "!pip install kaggle\n",
        "! mkdir -p ~/.kaggle\n",
        "! cp \"/content/drive/MyDrive/API Keys/kaggle.json\" ~/.kaggle/\n",
        "! chmod 600 ~/.kaggle/kaggle.json"
      ]
    },
    {
      "cell_type": "code",
      "execution_count": null,
      "metadata": {
        "colab": {
          "base_uri": "https://localhost:8080/"
        },
        "id": "8wWEdbQGpJCx",
        "outputId": "f080869b-2b61-41bc-a9e0-3fbc2482d62a"
      },
      "outputs": [
        {
          "name": "stdout",
          "output_type": "stream",
          "text": [
            "Downloading fruit-images-for-object-detection.zip to /content\n",
            " 60% 17.0M/28.4M [00:00<00:00, 90.1MB/s]\n",
            "100% 28.4M/28.4M [00:00<00:00, 112MB/s] \n"
          ]
        }
      ],
      "source": [
        "!kaggle datasets download -d mbkinaci/fruit-images-for-object-detection"
      ]
    },
    {
      "cell_type": "code",
      "execution_count": null,
      "metadata": {
        "id": "Sj31zQd-B5Js"
      },
      "outputs": [],
      "source": [
        "# More libraries\n",
        "import glob\n",
        "import shutil\n",
        "import xml.etree.cElementTree as ET\n",
        "import pandas as pd\n",
        "import random"
      ]
    },
    {
      "cell_type": "code",
      "execution_count": null,
      "metadata": {
        "id": "NSIOftKlqHcc"
      },
      "outputs": [],
      "source": [
        "!unzip -q \"/content/fruit-images-for-object-detection.zip\" -d \"/content/data\"\n"
      ]
    },
    {
      "cell_type": "code",
      "execution_count": null,
      "metadata": {
        "id": "ZucqOx2EwgR0"
      },
      "outputs": [],
      "source": [
        "shutil.rmtree('data')"
      ]
    },
    {
      "cell_type": "code",
      "execution_count": null,
      "metadata": {
        "id": "Ay9qJ8SIufzH"
      },
      "outputs": [],
      "source": [
        "for src in [{\"type\": \"train\",\n",
        "             \"path\": \"data/train_zip/train\"},\n",
        "            {\"type\": \"test\",\n",
        "             \"path\": \"data/test_zip/test\"}]:\n",
        "  for pth in glob.glob(f\"{src['path']}/*.xml\"):\n",
        "    dest = f\"/content/data/{src['type']}\"\n",
        "    os.makedirs(dest, exist_ok=True)\n",
        "    shutil.move(pth, dest)\n",
        "  for pth in glob.glob(f\"{src['path']}/*.jpg\"):\n",
        "    dest = f\"/content/data/{src['type']}\"\n",
        "    os.makedirs(dest, exist_ok=True)\n",
        "    shutil.move(pth, dest)\n",
        "shutil.rmtree(\"data/train_zip\")\n",
        "shutil.rmtree(\"data/test_zip\")"
      ]
    },
    {
      "cell_type": "code",
      "execution_count": null,
      "metadata": {
        "id": "DmYgR8ApBwLB"
      },
      "outputs": [],
      "source": [
        "# Parse info from the files\n",
        "valid_folders = glob.glob('/content/data/*')\n",
        "valid_fnames = []\n",
        "dest = \"data/prp\"\n",
        "os.makedirs(dest, exist_ok=True)\n",
        "for folder in valid_folders:\n",
        "  for file in glob.glob(f'{folder}/*'):\n",
        "      shutil.copyfile(\n",
        "          file,\n",
        "          f'{dest}/{file.split(\"/\")[-1]}'\n",
        "        )\n",
        "      valid_fnames.append(file)\n",
        "random.shuffle(valid_fnames)\n",
        "\n",
        "df = pd.DataFrame(columns=[\"type\", \"filename\", \"name\", \"left\", \"top\", \"right\", \"top\", \"right\", \"bottom\", \"left\", \"bottom\"])\n",
        "\n",
        "# Looping through all of the files\n",
        "for i, file in enumerate(valid_fnames):\n",
        "  # Checks if it is an xml file or not\n",
        "  try:\n",
        "    # Parse into the lists\n",
        "    tree = ET.parse(file)\n",
        "    root = tree.getroot()\n",
        "    filename = ''.join(list(file.split(\".\")[:-1]) + [\".jpg\"])\n",
        "    name = root[6][0].text\n",
        "    width = int(root[4][0].text)\n",
        "    height = int(root[4][1].text)\n",
        "    left = int(root[6][4][0].text) / width\n",
        "    top = int(root[6][4][1].text) / height\n",
        "    right = int(root[6][4][2].text) / width\n",
        "    bottom = int(root[6][4][3].text) / height\n",
        "\n",
        "    if i < 0.8 * len(valid_fnames):\n",
        "      df.loc[i]=[\"TRAINING\", filename, name, left, top, right, top, right, bottom, left, bottom]\n",
        "    elif i < 0.9* len(valid_fnames):\n",
        "      df.loc[i]=[\"VALIDATION\", filename, name, left, top, right, top, right, bottom, left, bottom]\n",
        "    else:\n",
        "      df.loc[i]=[\"TEST\",filename, name, left, top, right, top, right, bottom, left, bottom]\n",
        "  except:\n",
        "    continue"
      ]
    },
    {
      "cell_type": "code",
      "execution_count": null,
      "metadata": {
        "colab": {
          "base_uri": "https://localhost:8080/",
          "height": 414
        },
        "id": "qmHQMOpVGc6a",
        "outputId": "fd54e8b2-6b4e-4719-c981-e3178f9b6aa5"
      },
      "outputs": [
        {
          "data": {
            "text/html": [
              "\n",
              "  <div id=\"df-7630620a-9672-4c8a-8ead-ccbe206ae95c\">\n",
              "    <div class=\"colab-df-container\">\n",
              "      <div>\n",
              "<style scoped>\n",
              "    .dataframe tbody tr th:only-of-type {\n",
              "        vertical-align: middle;\n",
              "    }\n",
              "\n",
              "    .dataframe tbody tr th {\n",
              "        vertical-align: top;\n",
              "    }\n",
              "\n",
              "    .dataframe thead th {\n",
              "        text-align: right;\n",
              "    }\n",
              "</style>\n",
              "<table border=\"1\" class=\"dataframe\">\n",
              "  <thead>\n",
              "    <tr style=\"text-align: right;\">\n",
              "      <th></th>\n",
              "      <th>type</th>\n",
              "      <th>filename</th>\n",
              "      <th>name</th>\n",
              "      <th>left</th>\n",
              "      <th>top</th>\n",
              "      <th>right</th>\n",
              "      <th>top</th>\n",
              "      <th>right</th>\n",
              "      <th>bottom</th>\n",
              "      <th>left</th>\n",
              "      <th>bottom</th>\n",
              "    </tr>\n",
              "  </thead>\n",
              "  <tbody>\n",
              "    <tr>\n",
              "      <th>0</th>\n",
              "      <td>TRAINING</td>\n",
              "      <td>/content/data/test/apple_82.jpg</td>\n",
              "      <td>apple</td>\n",
              "      <td>0.156250</td>\n",
              "      <td>0.259574</td>\n",
              "      <td>0.877404</td>\n",
              "      <td>0.259574</td>\n",
              "      <td>0.877404</td>\n",
              "      <td>0.859574</td>\n",
              "      <td>0.156250</td>\n",
              "      <td>0.859574</td>\n",
              "    </tr>\n",
              "    <tr>\n",
              "      <th>1</th>\n",
              "      <td>TRAINING</td>\n",
              "      <td>/content/data/train/apple_36.jpg</td>\n",
              "      <td>apple</td>\n",
              "      <td>0.048193</td>\n",
              "      <td>0.099415</td>\n",
              "      <td>0.933735</td>\n",
              "      <td>0.099415</td>\n",
              "      <td>0.933735</td>\n",
              "      <td>0.941520</td>\n",
              "      <td>0.048193</td>\n",
              "      <td>0.941520</td>\n",
              "    </tr>\n",
              "    <tr>\n",
              "      <th>3</th>\n",
              "      <td>TRAINING</td>\n",
              "      <td>/content/data/train/apple_66.jpg</td>\n",
              "      <td>apple</td>\n",
              "      <td>0.057500</td>\n",
              "      <td>0.098333</td>\n",
              "      <td>0.496250</td>\n",
              "      <td>0.098333</td>\n",
              "      <td>0.496250</td>\n",
              "      <td>0.720000</td>\n",
              "      <td>0.057500</td>\n",
              "      <td>0.720000</td>\n",
              "    </tr>\n",
              "    <tr>\n",
              "      <th>4</th>\n",
              "      <td>TRAINING</td>\n",
              "      <td>/content/data/train/banana_47.jpg</td>\n",
              "      <td>banana</td>\n",
              "      <td>0.008571</td>\n",
              "      <td>0.231939</td>\n",
              "      <td>0.977143</td>\n",
              "      <td>0.231939</td>\n",
              "      <td>0.977143</td>\n",
              "      <td>1.000000</td>\n",
              "      <td>0.008571</td>\n",
              "      <td>1.000000</td>\n",
              "    </tr>\n",
              "    <tr>\n",
              "      <th>8</th>\n",
              "      <td>TRAINING</td>\n",
              "      <td>/content/data/train/orange_54.jpg</td>\n",
              "      <td>orange</td>\n",
              "      <td>0.008000</td>\n",
              "      <td>0.074000</td>\n",
              "      <td>0.680000</td>\n",
              "      <td>0.074000</td>\n",
              "      <td>0.680000</td>\n",
              "      <td>0.800000</td>\n",
              "      <td>0.008000</td>\n",
              "      <td>0.800000</td>\n",
              "    </tr>\n",
              "    <tr>\n",
              "      <th>...</th>\n",
              "      <td>...</td>\n",
              "      <td>...</td>\n",
              "      <td>...</td>\n",
              "      <td>...</td>\n",
              "      <td>...</td>\n",
              "      <td>...</td>\n",
              "      <td>...</td>\n",
              "      <td>...</td>\n",
              "      <td>...</td>\n",
              "      <td>...</td>\n",
              "      <td>...</td>\n",
              "    </tr>\n",
              "    <tr>\n",
              "      <th>587</th>\n",
              "      <td>TEST</td>\n",
              "      <td>/content/data/train/banana_74.jpg</td>\n",
              "      <td>banana</td>\n",
              "      <td>0.090278</td>\n",
              "      <td>0.037500</td>\n",
              "      <td>0.962500</td>\n",
              "      <td>0.037500</td>\n",
              "      <td>0.962500</td>\n",
              "      <td>0.400000</td>\n",
              "      <td>0.090278</td>\n",
              "      <td>0.400000</td>\n",
              "    </tr>\n",
              "    <tr>\n",
              "      <th>588</th>\n",
              "      <td>TEST</td>\n",
              "      <td>/content/data/test/apple_90.jpg</td>\n",
              "      <td>apple</td>\n",
              "      <td>0.031974</td>\n",
              "      <td>0.062000</td>\n",
              "      <td>0.979052</td>\n",
              "      <td>0.062000</td>\n",
              "      <td>0.979052</td>\n",
              "      <td>0.955000</td>\n",
              "      <td>0.031974</td>\n",
              "      <td>0.955000</td>\n",
              "    </tr>\n",
              "    <tr>\n",
              "      <th>593</th>\n",
              "      <td>TEST</td>\n",
              "      <td>/content/data/train/orange_36.jpg</td>\n",
              "      <td>orange</td>\n",
              "      <td>0.441250</td>\n",
              "      <td>0.214167</td>\n",
              "      <td>0.900000</td>\n",
              "      <td>0.214167</td>\n",
              "      <td>0.900000</td>\n",
              "      <td>0.815000</td>\n",
              "      <td>0.441250</td>\n",
              "      <td>0.815000</td>\n",
              "    </tr>\n",
              "    <tr>\n",
              "      <th>596</th>\n",
              "      <td>TEST</td>\n",
              "      <td>/content/data/train/orange_32.jpg</td>\n",
              "      <td>orange</td>\n",
              "      <td>0.125000</td>\n",
              "      <td>0.334471</td>\n",
              "      <td>0.620000</td>\n",
              "      <td>0.334471</td>\n",
              "      <td>0.620000</td>\n",
              "      <td>0.986348</td>\n",
              "      <td>0.125000</td>\n",
              "      <td>0.986348</td>\n",
              "    </tr>\n",
              "    <tr>\n",
              "      <th>598</th>\n",
              "      <td>TEST</td>\n",
              "      <td>/content/data/train/banana_62.jpg</td>\n",
              "      <td>banana</td>\n",
              "      <td>0.084375</td>\n",
              "      <td>0.433333</td>\n",
              "      <td>0.834375</td>\n",
              "      <td>0.433333</td>\n",
              "      <td>0.834375</td>\n",
              "      <td>1.000000</td>\n",
              "      <td>0.084375</td>\n",
              "      <td>1.000000</td>\n",
              "    </tr>\n",
              "  </tbody>\n",
              "</table>\n",
              "<p>263 rows × 11 columns</p>\n",
              "</div>\n",
              "      <button class=\"colab-df-convert\" onclick=\"convertToInteractive('df-7630620a-9672-4c8a-8ead-ccbe206ae95c')\"\n",
              "              title=\"Convert this dataframe to an interactive table.\"\n",
              "              style=\"display:none;\">\n",
              "        \n",
              "  <svg xmlns=\"http://www.w3.org/2000/svg\" height=\"24px\"viewBox=\"0 0 24 24\"\n",
              "       width=\"24px\">\n",
              "    <path d=\"M0 0h24v24H0V0z\" fill=\"none\"/>\n",
              "    <path d=\"M18.56 5.44l.94 2.06.94-2.06 2.06-.94-2.06-.94-.94-2.06-.94 2.06-2.06.94zm-11 1L8.5 8.5l.94-2.06 2.06-.94-2.06-.94L8.5 2.5l-.94 2.06-2.06.94zm10 10l.94 2.06.94-2.06 2.06-.94-2.06-.94-.94-2.06-.94 2.06-2.06.94z\"/><path d=\"M17.41 7.96l-1.37-1.37c-.4-.4-.92-.59-1.43-.59-.52 0-1.04.2-1.43.59L10.3 9.45l-7.72 7.72c-.78.78-.78 2.05 0 2.83L4 21.41c.39.39.9.59 1.41.59.51 0 1.02-.2 1.41-.59l7.78-7.78 2.81-2.81c.8-.78.8-2.07 0-2.86zM5.41 20L4 18.59l7.72-7.72 1.47 1.35L5.41 20z\"/>\n",
              "  </svg>\n",
              "      </button>\n",
              "      \n",
              "  <style>\n",
              "    .colab-df-container {\n",
              "      display:flex;\n",
              "      flex-wrap:wrap;\n",
              "      gap: 12px;\n",
              "    }\n",
              "\n",
              "    .colab-df-convert {\n",
              "      background-color: #E8F0FE;\n",
              "      border: none;\n",
              "      border-radius: 50%;\n",
              "      cursor: pointer;\n",
              "      display: none;\n",
              "      fill: #1967D2;\n",
              "      height: 32px;\n",
              "      padding: 0 0 0 0;\n",
              "      width: 32px;\n",
              "    }\n",
              "\n",
              "    .colab-df-convert:hover {\n",
              "      background-color: #E2EBFA;\n",
              "      box-shadow: 0px 1px 2px rgba(60, 64, 67, 0.3), 0px 1px 3px 1px rgba(60, 64, 67, 0.15);\n",
              "      fill: #174EA6;\n",
              "    }\n",
              "\n",
              "    [theme=dark] .colab-df-convert {\n",
              "      background-color: #3B4455;\n",
              "      fill: #D2E3FC;\n",
              "    }\n",
              "\n",
              "    [theme=dark] .colab-df-convert:hover {\n",
              "      background-color: #434B5C;\n",
              "      box-shadow: 0px 1px 3px 1px rgba(0, 0, 0, 0.15);\n",
              "      filter: drop-shadow(0px 1px 2px rgba(0, 0, 0, 0.3));\n",
              "      fill: #FFFFFF;\n",
              "    }\n",
              "  </style>\n",
              "\n",
              "      <script>\n",
              "        const buttonEl =\n",
              "          document.querySelector('#df-7630620a-9672-4c8a-8ead-ccbe206ae95c button.colab-df-convert');\n",
              "        buttonEl.style.display =\n",
              "          google.colab.kernel.accessAllowed ? 'block' : 'none';\n",
              "\n",
              "        async function convertToInteractive(key) {\n",
              "          const element = document.querySelector('#df-7630620a-9672-4c8a-8ead-ccbe206ae95c');\n",
              "          const dataTable =\n",
              "            await google.colab.kernel.invokeFunction('convertToInteractive',\n",
              "                                                     [key], {});\n",
              "          if (!dataTable) return;\n",
              "\n",
              "          const docLinkHtml = 'Like what you see? Visit the ' +\n",
              "            '<a target=\"_blank\" href=https://colab.research.google.com/notebooks/data_table.ipynb>data table notebook</a>'\n",
              "            + ' to learn more about interactive tables.';\n",
              "          element.innerHTML = '';\n",
              "          dataTable['output_type'] = 'display_data';\n",
              "          await google.colab.output.renderOutput(dataTable, element);\n",
              "          const docLink = document.createElement('div');\n",
              "          docLink.innerHTML = docLinkHtml;\n",
              "          element.appendChild(docLink);\n",
              "        }\n",
              "      </script>\n",
              "    </div>\n",
              "  </div>\n",
              "  "
            ],
            "text/plain": [
              "         type                           filename    name      left       top  \\\n",
              "0    TRAINING    /content/data/test/apple_82.jpg   apple  0.156250  0.259574   \n",
              "1    TRAINING   /content/data/train/apple_36.jpg   apple  0.048193  0.099415   \n",
              "3    TRAINING   /content/data/train/apple_66.jpg   apple  0.057500  0.098333   \n",
              "4    TRAINING  /content/data/train/banana_47.jpg  banana  0.008571  0.231939   \n",
              "8    TRAINING  /content/data/train/orange_54.jpg  orange  0.008000  0.074000   \n",
              "..        ...                                ...     ...       ...       ...   \n",
              "587      TEST  /content/data/train/banana_74.jpg  banana  0.090278  0.037500   \n",
              "588      TEST    /content/data/test/apple_90.jpg   apple  0.031974  0.062000   \n",
              "593      TEST  /content/data/train/orange_36.jpg  orange  0.441250  0.214167   \n",
              "596      TEST  /content/data/train/orange_32.jpg  orange  0.125000  0.334471   \n",
              "598      TEST  /content/data/train/banana_62.jpg  banana  0.084375  0.433333   \n",
              "\n",
              "        right       top     right    bottom      left    bottom  \n",
              "0    0.877404  0.259574  0.877404  0.859574  0.156250  0.859574  \n",
              "1    0.933735  0.099415  0.933735  0.941520  0.048193  0.941520  \n",
              "3    0.496250  0.098333  0.496250  0.720000  0.057500  0.720000  \n",
              "4    0.977143  0.231939  0.977143  1.000000  0.008571  1.000000  \n",
              "8    0.680000  0.074000  0.680000  0.800000  0.008000  0.800000  \n",
              "..        ...       ...       ...       ...       ...       ...  \n",
              "587  0.962500  0.037500  0.962500  0.400000  0.090278  0.400000  \n",
              "588  0.979052  0.062000  0.979052  0.955000  0.031974  0.955000  \n",
              "593  0.900000  0.214167  0.900000  0.815000  0.441250  0.815000  \n",
              "596  0.620000  0.334471  0.620000  0.986348  0.125000  0.986348  \n",
              "598  0.834375  0.433333  0.834375  1.000000  0.084375  1.000000  \n",
              "\n",
              "[263 rows x 11 columns]"
            ]
          },
          "execution_count": 20,
          "metadata": {},
          "output_type": "execute_result"
        }
      ],
      "source": [
        "df"
      ]
    },
    {
      "cell_type": "code",
      "execution_count": null,
      "metadata": {
        "colab": {
          "base_uri": "https://localhost:8080/"
        },
        "id": "wtVLDLNZ27Ac",
        "outputId": "e555b4c9-d4a1-48b7-8f53-8fad9c08d762"
      },
      "outputs": [
        {
          "data": {
            "text/plain": [
              "array(['apple', 'banana', 'orange'], dtype=object)"
            ]
          },
          "execution_count": 32,
          "metadata": {},
          "output_type": "execute_result"
        }
      ],
      "source": [
        "pd.unique(df[\"name\"])"
      ]
    },
    {
      "cell_type": "code",
      "execution_count": null,
      "metadata": {
        "id": "Daq1Ykz-HQ06"
      },
      "outputs": [],
      "source": [
        "# Turns it into the csv\n",
        "df.to_csv('data.csv', index=False)"
      ]
    },
    {
      "cell_type": "code",
      "execution_count": null,
      "metadata": {
        "id": "iDo8yBI5H3bZ"
      },
      "outputs": [],
      "source": [
        "# Deletes the first line\n",
        "with open(\"test.csv\",'r') as f, open(\"trainingdata.csv\",'w') as f1:\n",
        "    next(f) # skip header line\n",
        "    for line in f:\n",
        "        f1.write(line)"
      ]
    },
    {
      "cell_type": "code",
      "execution_count": null,
      "metadata": {
        "id": "WkWoBK2zUeya"
      },
      "outputs": [],
      "source": [
        "# Loads training data\n",
        "train_data, validation_data, test_data = object_detector.DataLoader.from_csv('trainingdata.csv')"
      ]
    },
    {
      "cell_type": "code",
      "execution_count": null,
      "metadata": {
        "id": "wwbVe8ZFo9T8"
      },
      "outputs": [],
      "source": [
        "# Initialize model\n",
        "spec = model_spec.get('efficientdet_lite0')"
      ]
    },
    {
      "cell_type": "code",
      "execution_count": null,
      "metadata": {
        "colab": {
          "base_uri": "https://localhost:8080/"
        },
        "id": "mLi4d62iUfko",
        "outputId": "a880e809-ec01-4824-bc0a-d64def92655a"
      },
      "outputs": [
        {
          "name": "stdout",
          "output_type": "stream",
          "text": [
            "Epoch 1/50\n",
            "6/6 [==============================] - 62s 3s/step - det_loss: 1.8155 - cls_loss: 1.1522 - box_loss: 0.0133 - reg_l2_loss: 0.0632 - loss: 1.8787 - learning_rate: 0.0232 - gradient_norm: 0.9373 - val_det_loss: 1.7173 - val_cls_loss: 1.1292 - val_box_loss: 0.0118 - val_reg_l2_loss: 0.0632 - val_loss: 1.7805\n",
            "Epoch 2/50\n",
            "6/6 [==============================] - 9s 2s/step - det_loss: 1.6603 - cls_loss: 1.1160 - box_loss: 0.0109 - reg_l2_loss: 0.0632 - loss: 1.7235 - learning_rate: 0.0399 - gradient_norm: 0.8079 - val_det_loss: 1.5082 - val_cls_loss: 1.0366 - val_box_loss: 0.0094 - val_reg_l2_loss: 0.0632 - val_loss: 1.5714\n",
            "Epoch 3/50\n",
            "6/6 [==============================] - 10s 2s/step - det_loss: 1.4822 - cls_loss: 1.0131 - box_loss: 0.0094 - reg_l2_loss: 0.0632 - loss: 1.5454 - learning_rate: 0.0397 - gradient_norm: 1.0139 - val_det_loss: 1.3073 - val_cls_loss: 0.9013 - val_box_loss: 0.0081 - val_reg_l2_loss: 0.0632 - val_loss: 1.3705\n",
            "Epoch 4/50\n",
            "6/6 [==============================] - 10s 2s/step - det_loss: 1.2188 - cls_loss: 0.8358 - box_loss: 0.0077 - reg_l2_loss: 0.0632 - loss: 1.2820 - learning_rate: 0.0395 - gradient_norm: 1.3982 - val_det_loss: 1.2443 - val_cls_loss: 0.9003 - val_box_loss: 0.0069 - val_reg_l2_loss: 0.0632 - val_loss: 1.3075\n",
            "Epoch 5/50\n",
            "6/6 [==============================] - 18s 4s/step - det_loss: 0.9859 - cls_loss: 0.6626 - box_loss: 0.0065 - reg_l2_loss: 0.0632 - loss: 1.0492 - learning_rate: 0.0392 - gradient_norm: 1.4989 - val_det_loss: 1.5031 - val_cls_loss: 1.1682 - val_box_loss: 0.0067 - val_reg_l2_loss: 0.0633 - val_loss: 1.5663\n",
            "Epoch 6/50\n",
            "6/6 [==============================] - 9s 2s/step - det_loss: 0.7988 - cls_loss: 0.5378 - box_loss: 0.0052 - reg_l2_loss: 0.0633 - loss: 0.8620 - learning_rate: 0.0388 - gradient_norm: 1.5283 - val_det_loss: 1.5612 - val_cls_loss: 1.2231 - val_box_loss: 0.0068 - val_reg_l2_loss: 0.0633 - val_loss: 1.6245\n",
            "Epoch 7/50\n",
            "6/6 [==============================] - 11s 2s/step - det_loss: 0.7025 - cls_loss: 0.4741 - box_loss: 0.0046 - reg_l2_loss: 0.0633 - loss: 0.7658 - learning_rate: 0.0383 - gradient_norm: 1.5011 - val_det_loss: 1.4971 - val_cls_loss: 1.0502 - val_box_loss: 0.0089 - val_reg_l2_loss: 0.0633 - val_loss: 1.5605\n",
            "Epoch 8/50\n",
            "6/6 [==============================] - 10s 2s/step - det_loss: 0.6385 - cls_loss: 0.4256 - box_loss: 0.0043 - reg_l2_loss: 0.0633 - loss: 0.7018 - learning_rate: 0.0377 - gradient_norm: 1.5551 - val_det_loss: 1.5677 - val_cls_loss: 1.0916 - val_box_loss: 0.0095 - val_reg_l2_loss: 0.0634 - val_loss: 1.6311\n",
            "Epoch 9/50\n",
            "6/6 [==============================] - 9s 2s/step - det_loss: 0.5607 - cls_loss: 0.3683 - box_loss: 0.0038 - reg_l2_loss: 0.0634 - loss: 0.6240 - learning_rate: 0.0371 - gradient_norm: 1.5717 - val_det_loss: 1.2446 - val_cls_loss: 0.8192 - val_box_loss: 0.0085 - val_reg_l2_loss: 0.0634 - val_loss: 1.3080\n",
            "Epoch 10/50\n",
            "6/6 [==============================] - 12s 2s/step - det_loss: 0.4880 - cls_loss: 0.3245 - box_loss: 0.0033 - reg_l2_loss: 0.0634 - loss: 0.5514 - learning_rate: 0.0364 - gradient_norm: 1.6296 - val_det_loss: 0.9248 - val_cls_loss: 0.6050 - val_box_loss: 0.0064 - val_reg_l2_loss: 0.0634 - val_loss: 0.9883\n",
            "Epoch 11/50\n",
            "6/6 [==============================] - 10s 2s/step - det_loss: 0.4981 - cls_loss: 0.3372 - box_loss: 0.0032 - reg_l2_loss: 0.0635 - loss: 0.5615 - learning_rate: 0.0357 - gradient_norm: 1.9277 - val_det_loss: 1.1114 - val_cls_loss: 0.7647 - val_box_loss: 0.0069 - val_reg_l2_loss: 0.0635 - val_loss: 1.1749\n",
            "Epoch 12/50\n",
            "6/6 [==============================] - 9s 2s/step - det_loss: 0.4614 - cls_loss: 0.3042 - box_loss: 0.0031 - reg_l2_loss: 0.0635 - loss: 0.5249 - learning_rate: 0.0348 - gradient_norm: 2.1564 - val_det_loss: 1.2400 - val_cls_loss: 0.7758 - val_box_loss: 0.0093 - val_reg_l2_loss: 0.0635 - val_loss: 1.3035\n",
            "Epoch 13/50\n",
            "6/6 [==============================] - 9s 2s/step - det_loss: 0.4458 - cls_loss: 0.2912 - box_loss: 0.0031 - reg_l2_loss: 0.0635 - loss: 0.5093 - learning_rate: 0.0339 - gradient_norm: 1.9559 - val_det_loss: 1.0344 - val_cls_loss: 0.6691 - val_box_loss: 0.0073 - val_reg_l2_loss: 0.0636 - val_loss: 1.0980\n",
            "Epoch 14/50\n",
            "6/6 [==============================] - 10s 2s/step - det_loss: 0.4542 - cls_loss: 0.3042 - box_loss: 0.0030 - reg_l2_loss: 0.0636 - loss: 0.5178 - learning_rate: 0.0330 - gradient_norm: 2.0419 - val_det_loss: 1.2133 - val_cls_loss: 0.9131 - val_box_loss: 0.0060 - val_reg_l2_loss: 0.0636 - val_loss: 1.2769\n",
            "Epoch 15/50\n",
            "6/6 [==============================] - 13s 2s/step - det_loss: 0.3895 - cls_loss: 0.2627 - box_loss: 0.0025 - reg_l2_loss: 0.0636 - loss: 0.4531 - learning_rate: 0.0320 - gradient_norm: 1.7902 - val_det_loss: 1.1532 - val_cls_loss: 0.8688 - val_box_loss: 0.0057 - val_reg_l2_loss: 0.0636 - val_loss: 1.2168\n",
            "Epoch 16/50\n",
            "6/6 [==============================] - 10s 2s/step - det_loss: 0.4065 - cls_loss: 0.2764 - box_loss: 0.0026 - reg_l2_loss: 0.0637 - loss: 0.4701 - learning_rate: 0.0309 - gradient_norm: 2.0090 - val_det_loss: 1.6054 - val_cls_loss: 1.1987 - val_box_loss: 0.0081 - val_reg_l2_loss: 0.0637 - val_loss: 1.6690\n",
            "Epoch 17/50\n",
            "6/6 [==============================] - 10s 2s/step - det_loss: 0.3574 - cls_loss: 0.2444 - box_loss: 0.0023 - reg_l2_loss: 0.0637 - loss: 0.4211 - learning_rate: 0.0298 - gradient_norm: 1.5800 - val_det_loss: 1.4239 - val_cls_loss: 1.0597 - val_box_loss: 0.0073 - val_reg_l2_loss: 0.0637 - val_loss: 1.4876\n",
            "Epoch 18/50\n",
            "6/6 [==============================] - 9s 2s/step - det_loss: 0.3703 - cls_loss: 0.2576 - box_loss: 0.0023 - reg_l2_loss: 0.0637 - loss: 0.4340 - learning_rate: 0.0287 - gradient_norm: 1.9726 - val_det_loss: 1.1229 - val_cls_loss: 0.7879 - val_box_loss: 0.0067 - val_reg_l2_loss: 0.0637 - val_loss: 1.1866\n",
            "Epoch 19/50\n",
            "6/6 [==============================] - 10s 2s/step - det_loss: 0.3358 - cls_loss: 0.2335 - box_loss: 0.0020 - reg_l2_loss: 0.0637 - loss: 0.3995 - learning_rate: 0.0275 - gradient_norm: 1.6342 - val_det_loss: 0.7885 - val_cls_loss: 0.5170 - val_box_loss: 0.0054 - val_reg_l2_loss: 0.0638 - val_loss: 0.8522\n",
            "Epoch 20/50\n",
            "6/6 [==============================] - 12s 2s/step - det_loss: 0.3149 - cls_loss: 0.2239 - box_loss: 0.0018 - reg_l2_loss: 0.0638 - loss: 0.3786 - learning_rate: 0.0263 - gradient_norm: 1.5420 - val_det_loss: 0.7415 - val_cls_loss: 0.4726 - val_box_loss: 0.0054 - val_reg_l2_loss: 0.0638 - val_loss: 0.8053\n",
            "Epoch 21/50\n",
            "6/6 [==============================] - 10s 2s/step - det_loss: 0.3328 - cls_loss: 0.2359 - box_loss: 0.0019 - reg_l2_loss: 0.0638 - loss: 0.3965 - learning_rate: 0.0251 - gradient_norm: 1.8319 - val_det_loss: 1.0496 - val_cls_loss: 0.7151 - val_box_loss: 0.0067 - val_reg_l2_loss: 0.0638 - val_loss: 1.1134\n",
            "Epoch 22/50\n",
            "6/6 [==============================] - 10s 2s/step - det_loss: 0.3195 - cls_loss: 0.2270 - box_loss: 0.0018 - reg_l2_loss: 0.0638 - loss: 0.3833 - learning_rate: 0.0239 - gradient_norm: 1.8905 - val_det_loss: 0.8895 - val_cls_loss: 0.6414 - val_box_loss: 0.0050 - val_reg_l2_loss: 0.0638 - val_loss: 0.9533\n",
            "Epoch 23/50\n",
            "6/6 [==============================] - 10s 2s/step - det_loss: 0.2948 - cls_loss: 0.2092 - box_loss: 0.0017 - reg_l2_loss: 0.0638 - loss: 0.3586 - learning_rate: 0.0226 - gradient_norm: 1.4851 - val_det_loss: 0.8923 - val_cls_loss: 0.6167 - val_box_loss: 0.0055 - val_reg_l2_loss: 0.0638 - val_loss: 0.9562\n",
            "Epoch 24/50\n",
            "6/6 [==============================] - 10s 2s/step - det_loss: 0.3025 - cls_loss: 0.2209 - box_loss: 0.0016 - reg_l2_loss: 0.0638 - loss: 0.3663 - learning_rate: 0.0213 - gradient_norm: 1.5522 - val_det_loss: 0.8779 - val_cls_loss: 0.6154 - val_box_loss: 0.0053 - val_reg_l2_loss: 0.0638 - val_loss: 0.9417\n",
            "Epoch 25/50\n",
            "6/6 [==============================] - 12s 2s/step - det_loss: 0.3013 - cls_loss: 0.2146 - box_loss: 0.0017 - reg_l2_loss: 0.0639 - loss: 0.3652 - learning_rate: 0.0200 - gradient_norm: 1.5396 - val_det_loss: 0.7890 - val_cls_loss: 0.5412 - val_box_loss: 0.0050 - val_reg_l2_loss: 0.0639 - val_loss: 0.8529\n",
            "Epoch 26/50\n",
            "6/6 [==============================] - 9s 2s/step - det_loss: 0.2649 - cls_loss: 0.1913 - box_loss: 0.0015 - reg_l2_loss: 0.0639 - loss: 0.3287 - learning_rate: 0.0187 - gradient_norm: 1.2587 - val_det_loss: 0.7505 - val_cls_loss: 0.5168 - val_box_loss: 0.0047 - val_reg_l2_loss: 0.0639 - val_loss: 0.8144\n",
            "Epoch 27/50\n",
            "6/6 [==============================] - 10s 2s/step - det_loss: 0.2766 - cls_loss: 0.2023 - box_loss: 0.0015 - reg_l2_loss: 0.0639 - loss: 0.3405 - learning_rate: 0.0175 - gradient_norm: 1.3916 - val_det_loss: 0.7242 - val_cls_loss: 0.4969 - val_box_loss: 0.0045 - val_reg_l2_loss: 0.0639 - val_loss: 0.7881\n",
            "Epoch 28/50\n",
            "6/6 [==============================] - 10s 2s/step - det_loss: 0.2808 - cls_loss: 0.2018 - box_loss: 0.0016 - reg_l2_loss: 0.0639 - loss: 0.3447 - learning_rate: 0.0162 - gradient_norm: 1.6323 - val_det_loss: 0.7126 - val_cls_loss: 0.4610 - val_box_loss: 0.0050 - val_reg_l2_loss: 0.0639 - val_loss: 0.7765\n",
            "Epoch 29/50\n",
            "6/6 [==============================] - 10s 2s/step - det_loss: 0.2560 - cls_loss: 0.1901 - box_loss: 0.0013 - reg_l2_loss: 0.0639 - loss: 0.3199 - learning_rate: 0.0150 - gradient_norm: 1.2692 - val_det_loss: 0.6511 - val_cls_loss: 0.4378 - val_box_loss: 0.0043 - val_reg_l2_loss: 0.0639 - val_loss: 0.7150\n",
            "Epoch 30/50\n",
            "6/6 [==============================] - 12s 2s/step - det_loss: 0.2729 - cls_loss: 0.1967 - box_loss: 0.0015 - reg_l2_loss: 0.0639 - loss: 0.3368 - learning_rate: 0.0137 - gradient_norm: 1.5763 - val_det_loss: 0.6581 - val_cls_loss: 0.4395 - val_box_loss: 0.0044 - val_reg_l2_loss: 0.0639 - val_loss: 0.7220\n",
            "Epoch 31/50\n",
            "6/6 [==============================] - 11s 2s/step - det_loss: 0.2504 - cls_loss: 0.1821 - box_loss: 0.0014 - reg_l2_loss: 0.0639 - loss: 0.3143 - learning_rate: 0.0125 - gradient_norm: 1.5096 - val_det_loss: 0.6395 - val_cls_loss: 0.4373 - val_box_loss: 0.0040 - val_reg_l2_loss: 0.0639 - val_loss: 0.7034\n",
            "Epoch 32/50\n",
            "6/6 [==============================] - 9s 2s/step - det_loss: 0.2370 - cls_loss: 0.1723 - box_loss: 0.0013 - reg_l2_loss: 0.0639 - loss: 0.3009 - learning_rate: 0.0114 - gradient_norm: 1.1858 - val_det_loss: 0.6312 - val_cls_loss: 0.4343 - val_box_loss: 0.0039 - val_reg_l2_loss: 0.0639 - val_loss: 0.6951\n",
            "Epoch 33/50\n",
            "6/6 [==============================] - 10s 2s/step - det_loss: 0.2434 - cls_loss: 0.1774 - box_loss: 0.0013 - reg_l2_loss: 0.0639 - loss: 0.3073 - learning_rate: 0.0102 - gradient_norm: 1.3394 - val_det_loss: 0.6144 - val_cls_loss: 0.4332 - val_box_loss: 0.0036 - val_reg_l2_loss: 0.0639 - val_loss: 0.6783\n",
            "Epoch 34/50\n",
            "6/6 [==============================] - 9s 2s/step - det_loss: 0.2344 - cls_loss: 0.1726 - box_loss: 0.0012 - reg_l2_loss: 0.0639 - loss: 0.2983 - learning_rate: 0.0091 - gradient_norm: 1.3204 - val_det_loss: 0.5724 - val_cls_loss: 0.4124 - val_box_loss: 0.0032 - val_reg_l2_loss: 0.0639 - val_loss: 0.6363\n",
            "Epoch 35/50\n",
            "6/6 [==============================] - 12s 2s/step - det_loss: 0.2462 - cls_loss: 0.1808 - box_loss: 0.0013 - reg_l2_loss: 0.0639 - loss: 0.3101 - learning_rate: 0.0081 - gradient_norm: 1.3247 - val_det_loss: 0.5606 - val_cls_loss: 0.4069 - val_box_loss: 0.0031 - val_reg_l2_loss: 0.0639 - val_loss: 0.6245\n",
            "Epoch 36/50\n",
            "6/6 [==============================] - 9s 2s/step - det_loss: 0.2398 - cls_loss: 0.1784 - box_loss: 0.0012 - reg_l2_loss: 0.0639 - loss: 0.3037 - learning_rate: 0.0071 - gradient_norm: 1.3913 - val_det_loss: 0.5558 - val_cls_loss: 0.4016 - val_box_loss: 0.0031 - val_reg_l2_loss: 0.0639 - val_loss: 0.6197\n",
            "Epoch 37/50\n",
            "6/6 [==============================] - 10s 2s/step - det_loss: 0.2345 - cls_loss: 0.1720 - box_loss: 0.0013 - reg_l2_loss: 0.0639 - loss: 0.2984 - learning_rate: 0.0061 - gradient_norm: 1.3584 - val_det_loss: 0.5777 - val_cls_loss: 0.4139 - val_box_loss: 0.0033 - val_reg_l2_loss: 0.0639 - val_loss: 0.6416\n",
            "Epoch 38/50\n",
            "6/6 [==============================] - 10s 2s/step - det_loss: 0.2304 - cls_loss: 0.1687 - box_loss: 0.0012 - reg_l2_loss: 0.0639 - loss: 0.2943 - learning_rate: 0.0052 - gradient_norm: 1.2921 - val_det_loss: 0.5918 - val_cls_loss: 0.4237 - val_box_loss: 0.0034 - val_reg_l2_loss: 0.0639 - val_loss: 0.6557\n",
            "Epoch 39/50\n",
            "6/6 [==============================] - 11s 2s/step - det_loss: 0.2320 - cls_loss: 0.1706 - box_loss: 0.0012 - reg_l2_loss: 0.0639 - loss: 0.2959 - learning_rate: 0.0044 - gradient_norm: 1.4204 - val_det_loss: 0.5690 - val_cls_loss: 0.4137 - val_box_loss: 0.0031 - val_reg_l2_loss: 0.0639 - val_loss: 0.6328\n",
            "Epoch 40/50\n",
            "6/6 [==============================] - 12s 2s/step - det_loss: 0.2127 - cls_loss: 0.1580 - box_loss: 0.0011 - reg_l2_loss: 0.0639 - loss: 0.2766 - learning_rate: 0.0036 - gradient_norm: 1.1390 - val_det_loss: 0.5712 - val_cls_loss: 0.4081 - val_box_loss: 0.0033 - val_reg_l2_loss: 0.0639 - val_loss: 0.6351\n",
            "Epoch 41/50\n",
            "6/6 [==============================] - 9s 2s/step - det_loss: 0.2362 - cls_loss: 0.1744 - box_loss: 0.0012 - reg_l2_loss: 0.0639 - loss: 0.3001 - learning_rate: 0.0029 - gradient_norm: 1.4494 - val_det_loss: 0.5621 - val_cls_loss: 0.4004 - val_box_loss: 0.0032 - val_reg_l2_loss: 0.0639 - val_loss: 0.6260\n",
            "Epoch 42/50\n",
            "6/6 [==============================] - 10s 2s/step - det_loss: 0.2152 - cls_loss: 0.1587 - box_loss: 0.0011 - reg_l2_loss: 0.0639 - loss: 0.2790 - learning_rate: 0.0023 - gradient_norm: 1.1127 - val_det_loss: 0.5370 - val_cls_loss: 0.3931 - val_box_loss: 0.0029 - val_reg_l2_loss: 0.0639 - val_loss: 0.6009\n",
            "Epoch 43/50\n",
            "6/6 [==============================] - 9s 2s/step - det_loss: 0.2320 - cls_loss: 0.1706 - box_loss: 0.0012 - reg_l2_loss: 0.0639 - loss: 0.2959 - learning_rate: 0.0017 - gradient_norm: 1.2681 - val_det_loss: 0.5364 - val_cls_loss: 0.3942 - val_box_loss: 0.0028 - val_reg_l2_loss: 0.0639 - val_loss: 0.6003\n",
            "Epoch 44/50\n",
            "6/6 [==============================] - 9s 2s/step - det_loss: 0.2202 - cls_loss: 0.1647 - box_loss: 0.0011 - reg_l2_loss: 0.0639 - loss: 0.2841 - learning_rate: 0.0012 - gradient_norm: 1.2061 - val_det_loss: 0.5376 - val_cls_loss: 0.3931 - val_box_loss: 0.0029 - val_reg_l2_loss: 0.0639 - val_loss: 0.6015\n",
            "Epoch 45/50\n",
            "6/6 [==============================] - 12s 2s/step - det_loss: 0.2071 - cls_loss: 0.1554 - box_loss: 0.0010 - reg_l2_loss: 0.0639 - loss: 0.2709 - learning_rate: 8.3892e-04 - gradient_norm: 1.1127 - val_det_loss: 0.5364 - val_cls_loss: 0.3903 - val_box_loss: 0.0029 - val_reg_l2_loss: 0.0639 - val_loss: 0.6003\n",
            "Epoch 46/50\n",
            "6/6 [==============================] - 10s 2s/step - det_loss: 0.2235 - cls_loss: 0.1694 - box_loss: 0.0011 - reg_l2_loss: 0.0639 - loss: 0.2874 - learning_rate: 5.1189e-04 - gradient_norm: 1.1386 - val_det_loss: 0.5338 - val_cls_loss: 0.3882 - val_box_loss: 0.0029 - val_reg_l2_loss: 0.0639 - val_loss: 0.5977\n",
            "Epoch 47/50\n",
            "6/6 [==============================] - 10s 2s/step - det_loss: 0.2360 - cls_loss: 0.1745 - box_loss: 0.0012 - reg_l2_loss: 0.0639 - loss: 0.2999 - learning_rate: 2.6494e-04 - gradient_norm: 1.3514 - val_det_loss: 0.5314 - val_cls_loss: 0.3862 - val_box_loss: 0.0029 - val_reg_l2_loss: 0.0639 - val_loss: 0.5953\n",
            "Epoch 48/50\n",
            "6/6 [==============================] - 9s 2s/step - det_loss: 0.2263 - cls_loss: 0.1714 - box_loss: 0.0011 - reg_l2_loss: 0.0639 - loss: 0.2902 - learning_rate: 9.9082e-05 - gradient_norm: 1.4104 - val_det_loss: 0.5297 - val_cls_loss: 0.3846 - val_box_loss: 0.0029 - val_reg_l2_loss: 0.0639 - val_loss: 0.5935\n",
            "Epoch 49/50\n",
            "6/6 [==============================] - 10s 2s/step - det_loss: 0.2141 - cls_loss: 0.1639 - box_loss: 0.0010 - reg_l2_loss: 0.0639 - loss: 0.2780 - learning_rate: 1.5004e-05 - gradient_norm: 1.1648 - val_det_loss: 0.5289 - val_cls_loss: 0.3837 - val_box_loss: 0.0029 - val_reg_l2_loss: 0.0639 - val_loss: 0.5928\n",
            "Epoch 50/50\n",
            "6/6 [==============================] - 12s 2s/step - det_loss: 0.2228 - cls_loss: 0.1618 - box_loss: 0.0012 - reg_l2_loss: 0.0639 - loss: 0.2867 - learning_rate: 1.3047e-05 - gradient_norm: 1.1235 - val_det_loss: 0.5271 - val_cls_loss: 0.3825 - val_box_loss: 0.0029 - val_reg_l2_loss: 0.0639 - val_loss: 0.5910\n"
          ]
        }
      ],
      "source": [
        "# Starts training\n",
        "model = object_detector.create(train_data, model_spec=spec, batch_size=32, train_whole_model=True, validation_data=validation_data)"
      ]
    },
    {
      "cell_type": "code",
      "execution_count": null,
      "metadata": {
        "colab": {
          "base_uri": "https://localhost:8080/"
        },
        "id": "5ARO35bCUiKl",
        "outputId": "94db86e8-a075-45d6-c88b-e0de3c9d7157"
      },
      "outputs": [
        {
          "name": "stdout",
          "output_type": "stream",
          "text": [
            "\r1/1 [==============================] - 6s 6s/step\n",
            "\n"
          ]
        },
        {
          "data": {
            "text/plain": [
              "{'AP': 0.6739385,\n",
              " 'AP50': 0.91131747,\n",
              " 'AP75': 0.7388519,\n",
              " 'AP_/apple': 0.9020745,\n",
              " 'AP_/banana': 0.40847507,\n",
              " 'AP_/orange': 0.7112661,\n",
              " 'APl': 0.6739385,\n",
              " 'APm': -1.0,\n",
              " 'APs': -1.0,\n",
              " 'ARl': 0.79136366,\n",
              " 'ARm': -1.0,\n",
              " 'ARmax1': 0.6780303,\n",
              " 'ARmax10': 0.79136366,\n",
              " 'ARmax100': 0.79136366,\n",
              " 'ARs': -1.0}"
            ]
          },
          "execution_count": 27,
          "metadata": {},
          "output_type": "execute_result"
        }
      ],
      "source": [
        "# Testing the model\n",
        "model.evaluate(test_data)"
      ]
    },
    {
      "cell_type": "markdown",
      "metadata": {
        "id": "pmrI7ZwyeoZu"
      },
      "source": [
        "Load a model in and predict"
      ]
    },
    {
      "cell_type": "code",
      "execution_count": null,
      "metadata": {
        "id": "w9ezK-89wVha"
      },
      "outputs": [],
      "source": [
        "model.export(export_dir='.')"
      ]
    },
    {
      "cell_type": "code",
      "execution_count": null,
      "metadata": {
        "id": "kB-Gn2zbeZvs"
      },
      "outputs": [],
      "source": [
        "import cv2\n",
        "\n",
        "from PIL import Image\n",
        "\n",
        "model_path = 'model.tflite'\n",
        "\n",
        "# Load the labels into a list\n",
        "classes = {\n",
        "    0: \"apple\",\n",
        "    1: \"banana\",\n",
        "    2: \"orange\",\n",
        "}\n",
        "\n",
        "# Code from tensorflow's website\n",
        "# Define a list of colors for visualization\n",
        "COLORS = np.random.randint(0, 255, size=(5, 3), dtype=np.uint8)\n",
        "\n",
        "def preprocess_image(image, input_size):\n",
        "  \"\"\"Preprocess the input image to feed to the TFLite model\"\"\"\n",
        "  img = tf.convert_to_tensor(image, dtype=tf.float32)\n",
        "  original_image = img\n",
        "  resized_img = tf.image.resize(img, input_size)\n",
        "  resized_img = resized_img[tf.newaxis, :]\n",
        "  resized_img = tf.cast(resized_img, dtype=tf.uint8)\n",
        "  return resized_img, original_image\n",
        "\n",
        "\n",
        "def detect_objects(interpreter, image, threshold):\n",
        "  \"\"\"Returns a list of detection results, each a dictionary of object info.\"\"\"\n",
        "\n",
        "  signature_fn = interpreter.get_signature_runner()\n",
        "\n",
        "  # Feed the input image to the model\n",
        "  output = signature_fn(images=image)\n",
        "\n",
        "  # Get all outputs from the model\n",
        "  count = int(np.squeeze(output['output_0']))\n",
        "  scores = np.squeeze(output['output_1'])\n",
        "  classes = np.squeeze(output['output_2'])\n",
        "  boxes = np.squeeze(output['output_3'])\n",
        "\n",
        "  results = []\n",
        "  for i in range(count):\n",
        "    if scores[i] >= threshold:\n",
        "      result = {\n",
        "        'bounding_box': boxes[i],\n",
        "        'class_id': classes[i],\n",
        "        'score': scores[i]\n",
        "      }\n",
        "      results.append(result)\n",
        "  return results\n",
        "\n",
        "\n",
        "def run_odt_and_draw_results(image, interpreter, threshold=0.5):\n",
        "  \"\"\"Run object detection on the input image and draw the detection results\"\"\"\n",
        "  # Load the input shape required by the model\n",
        "  _, input_height, input_width, _ = interpreter.get_input_details()[0]['shape']\n",
        "\n",
        "  # Load the input image and preprocess it\n",
        "  preprocessed_image, original_image = preprocess_image(\n",
        "      image,\n",
        "      (input_height, input_width)\n",
        "    )\n",
        "\n",
        "  # Run object detection on the input image\n",
        "  results = detect_objects(interpreter, preprocessed_image, threshold=threshold)\n",
        "\n",
        "  # Plot the detection results on the input image\n",
        "  original_image_np = original_image.numpy().astype(np.uint8)\n",
        "  for obj in results:\n",
        "    # Convert the object bounding box from relative coordinates to absolute\n",
        "    # coordinates based on the original image resolution\n",
        "    ymin, xmin, ymax, xmax = obj['bounding_box']\n",
        "    xmin = int(xmin * original_image_np.shape[1])\n",
        "    xmax = int(xmax * original_image_np.shape[1])\n",
        "    ymin = int(ymin * original_image_np.shape[0])\n",
        "    ymax = int(ymax * original_image_np.shape[0])\n",
        "\n",
        "    # Find the class index of the current object\n",
        "    class_id = int(obj['class_id'])\n",
        "\n",
        "    # Draw the bounding box and label on the image\n",
        "    color = [int(c) for c in COLORS[class_id]]\n",
        "    cv2.rectangle(original_image_np, (xmin, ymin), (xmax, ymax), color, 2)\n",
        "    # Make adjustments to make the label visible for all objects\n",
        "    y = ymin - 15 if ymin - 15 > 15 else ymin + 15\n",
        "    label = \"{}: {:.0f}%\".format(classes[class_id], obj['score'] * 100)\n",
        "    cv2.putText(original_image_np, label, (xmin, y),\n",
        "        cv2.FONT_HERSHEY_SIMPLEX, 0.5, color, 2)\n",
        "\n",
        "  # Return the final image\n",
        "  original_uint8 = original_image_np.astype(np.uint8)\n",
        "  return original_uint8"
      ]
    },
    {
      "cell_type": "code",
      "execution_count": null,
      "metadata": {
        "colab": {
          "base_uri": "https://localhost:8080/"
        },
        "id": "x_1hM4AF6f_0",
        "outputId": "c35240c5-9826-455a-ba93-b3d524bc6cb6"
      },
      "outputs": [
        {
          "name": "stdout",
          "output_type": "stream",
          "text": [
            "Looking in indexes: https://pypi.org/simple, https://us-python.pkg.dev/colab-wheels/public/simple/\n",
            "Collecting wget\n",
            "  Downloading wget-3.2.zip (10 kB)\n",
            "Building wheels for collected packages: wget\n",
            "  Building wheel for wget (setup.py) ... \u001b[?25l\u001b[?25hdone\n",
            "  Created wheel for wget: filename=wget-3.2-py3-none-any.whl size=9675 sha256=86fd6f3550a5256346ce529195497664bc501931473a068ba2bf55e7e70277d3\n",
            "  Stored in directory: /root/.cache/pip/wheels/a1/b6/7c/0e63e34eb06634181c63adacca38b79ff8f35c37e3c13e3c02\n",
            "Successfully built wget\n",
            "Installing collected packages: wget\n",
            "Successfully installed wget-3.2\n"
          ]
        }
      ],
      "source": [
        "!pip install wget"
      ]
    },
    {
      "cell_type": "code",
      "execution_count": null,
      "metadata": {
        "colab": {
          "background_save": true,
          "base_uri": "https://localhost:8080/",
          "height": 580
        },
        "id": "PGrHo0enegkG",
        "outputId": "54ed6ff6-2433-482a-a0e9-5b8608b387fd"
      },
      "outputs": [
        {
          "ename": "NameError",
          "evalue": "ignored",
          "output_type": "error",
          "traceback": [
            "\u001b[0;31m---------------------------------------------------------------------------\u001b[0m",
            "\u001b[0;31mNameError\u001b[0m                                 Traceback (most recent call last)",
            "\u001b[0;32m<ipython-input-1-3929b750719e>\u001b[0m in \u001b[0;36m<module>\u001b[0;34m()\u001b[0m\n\u001b[1;32m      4\u001b[0m \u001b[0;32mimport\u001b[0m \u001b[0mPIL\u001b[0m\u001b[0;34m\u001b[0m\u001b[0;34m\u001b[0m\u001b[0m\n\u001b[1;32m      5\u001b[0m \u001b[0;34m\u001b[0m\u001b[0m\n\u001b[0;32m----> 6\u001b[0;31m \u001b[0marr\u001b[0m \u001b[0;34m=\u001b[0m \u001b[0mnp\u001b[0m\u001b[0;34m.\u001b[0m\u001b[0marray\u001b[0m\u001b[0;34m(\u001b[0m\u001b[0mPIL\u001b[0m\u001b[0;34m.\u001b[0m\u001b[0mImage\u001b[0m\u001b[0;34m.\u001b[0m\u001b[0mopen\u001b[0m\u001b[0;34m(\u001b[0m\u001b[0;34m'/content/img.jpg'\u001b[0m\u001b[0;34m)\u001b[0m\u001b[0;34m)\u001b[0m\u001b[0;34m\u001b[0m\u001b[0;34m\u001b[0m\u001b[0m\n\u001b[0m\u001b[1;32m      7\u001b[0m \u001b[0;34m\u001b[0m\u001b[0m\n\u001b[1;32m      8\u001b[0m \u001b[0;31m# Load the TFLite model\u001b[0m\u001b[0;34m\u001b[0m\u001b[0;34m\u001b[0m\u001b[0;34m\u001b[0m\u001b[0m\n",
            "\u001b[0;31mNameError\u001b[0m: name 'np' is not defined"
          ]
        }
      ],
      "source": [
        "#@title Default title text\n",
        "# INPUT_IMAGE_URL = \"https://www.istockphoto.com/photos/fruit-isolated\" #@param {type:\"string\"}\n",
        "DETECTION_THRESHOLD = 0.1 #@param {type:\"slider\", min:0.1, max:0.9, step:0.1}\n",
        "import PIL\n",
        "\n",
        "arr = np.array(PIL.Image.open('/content/img.jpg'))\n",
        "\n",
        "# Load the TFLite model\n",
        "interpreter = tf.lite.Interpreter(model_path=model_path)\n",
        "interpreter.allocate_tensors()\n",
        "\n",
        "# Run inference and draw detection result on the local copy of the original file\n",
        "detection_result_image = run_odt_and_draw_results(\n",
        "    arr,\n",
        "    interpreter,\n",
        "    threshold=DETECTION_THRESHOLD\n",
        ")\n",
        "\n",
        "# Show the detection result\n",
        "(detection_result_image)"
      ]
    },
    {
      "cell_type": "code",
      "execution_count": null,
      "metadata": {
        "id": "oLSVFMh55VBK"
      },
      "outputs": [],
      "source": [
        ""
      ]
    }
  ],
  "metadata": {
    "accelerator": "GPU",
    "colab": {
      "name": "Copy of TensorFlow Lite",
      "provenance": [],
      "include_colab_link": true
    },
    "gpuClass": "standard",
    "kernelspec": {
      "display_name": "Python 3",
      "name": "python3"
    },
    "language_info": {
      "name": "python"
    }
  },
  "nbformat": 4,
  "nbformat_minor": 0
}